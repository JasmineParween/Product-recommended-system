{
 "cells": [
  {
   "cell_type": "code",
   "execution_count": 16,
   "metadata": {},
   "outputs": [],
   "source": [
    "import pandas as pd\n",
    "import numpy as np\n",
    "from sklearn.feature_extraction.text import TfidfVectorizer, CountVectorizer\n",
    "from sklearn.metrics.pairwise import linear_kernel, cosine_similarity"
   ]
  },
  {
   "cell_type": "code",
   "execution_count": 17,
   "metadata": {},
   "outputs": [],
   "source": [
    "df = pd.read_csv('../datasets/cleaned_data.csv')"
   ]
  },
  {
   "cell_type": "code",
   "execution_count": 18,
   "metadata": {},
   "outputs": [
    {
     "data": {
      "text/plain": [
       "product_name                0\n",
       "product_category_tree       0\n",
       "description                 1\n",
       "brand                    3770\n",
       "dtype: int64"
      ]
     },
     "execution_count": 18,
     "metadata": {},
     "output_type": "execute_result"
    }
   ],
   "source": [
    "df.isnull().sum()"
   ]
  },
  {
   "cell_type": "code",
   "execution_count": 19,
   "metadata": {},
   "outputs": [
    {
     "data": {
      "text/html": [
       "<div>\n",
       "<style scoped>\n",
       "    .dataframe tbody tr th:only-of-type {\n",
       "        vertical-align: middle;\n",
       "    }\n",
       "\n",
       "    .dataframe tbody tr th {\n",
       "        vertical-align: top;\n",
       "    }\n",
       "\n",
       "    .dataframe thead th {\n",
       "        text-align: right;\n",
       "    }\n",
       "</style>\n",
       "<table border=\"1\" class=\"dataframe\">\n",
       "  <thead>\n",
       "    <tr style=\"text-align: right;\">\n",
       "      <th></th>\n",
       "      <th>product_name</th>\n",
       "      <th>product_category_tree</th>\n",
       "      <th>description</th>\n",
       "      <th>brand</th>\n",
       "    </tr>\n",
       "  </thead>\n",
       "  <tbody>\n",
       "    <tr>\n",
       "      <th>0</th>\n",
       "      <td>alisha solid womens cycle short</td>\n",
       "      <td>clothe womens clothe lingerie sleep swimwear s...</td>\n",
       "      <td>key feature alisha solid womens cycle short co...</td>\n",
       "      <td>alisha</td>\n",
       "    </tr>\n",
       "    <tr>\n",
       "      <th>1</th>\n",
       "      <td>fabhomedecor fabric double sofa bed</td>\n",
       "      <td>furniture live room furniture sofa bed futons ...</td>\n",
       "      <td>fabhomedecor fabric double sofa bed finish col...</td>\n",
       "      <td>fabhomedecor</td>\n",
       "    </tr>\n",
       "    <tr>\n",
       "      <th>2</th>\n",
       "      <td>aw belly</td>\n",
       "      <td>footwear womens footwear ballerinas aw belly</td>\n",
       "      <td>key feature aw belly sandals wedge heel casual...</td>\n",
       "      <td>aw</td>\n",
       "    </tr>\n",
       "    <tr>\n",
       "      <th>3</th>\n",
       "      <td>sicons purpose arnica dog shampoo</td>\n",
       "      <td>pet supply groom skin coat care shampoo sicons...</td>\n",
       "      <td>specifications sicons purpose arnica dog shamp...</td>\n",
       "      <td>sicons</td>\n",
       "    </tr>\n",
       "    <tr>\n",
       "      <th>4</th>\n",
       "      <td>eternal gandhi super series crystal paper weig...</td>\n",
       "      <td>eternal gandhi super series crystal paper weight</td>\n",
       "      <td>key feature eternal gandhi super series crysta...</td>\n",
       "      <td>eternal gandhi</td>\n",
       "    </tr>\n",
       "  </tbody>\n",
       "</table>\n",
       "</div>"
      ],
      "text/plain": [
       "                                        product_name  \\\n",
       "0                    alisha solid womens cycle short   \n",
       "1                fabhomedecor fabric double sofa bed   \n",
       "2                                           aw belly   \n",
       "3                  sicons purpose arnica dog shampoo   \n",
       "4  eternal gandhi super series crystal paper weig...   \n",
       "\n",
       "                               product_category_tree  \\\n",
       "0  clothe womens clothe lingerie sleep swimwear s...   \n",
       "1  furniture live room furniture sofa bed futons ...   \n",
       "2       footwear womens footwear ballerinas aw belly   \n",
       "3  pet supply groom skin coat care shampoo sicons...   \n",
       "4   eternal gandhi super series crystal paper weight   \n",
       "\n",
       "                                         description           brand  \n",
       "0  key feature alisha solid womens cycle short co...          alisha  \n",
       "1  fabhomedecor fabric double sofa bed finish col...    fabhomedecor  \n",
       "2  key feature aw belly sandals wedge heel casual...              aw  \n",
       "3  specifications sicons purpose arnica dog shamp...          sicons  \n",
       "4  key feature eternal gandhi super series crysta...  eternal gandhi  "
      ]
     },
     "execution_count": 19,
     "metadata": {},
     "output_type": "execute_result"
    }
   ],
   "source": [
    "df.head()"
   ]
  },
  {
   "cell_type": "code",
   "execution_count": 20,
   "metadata": {},
   "outputs": [
    {
     "data": {
      "text/plain": [
       "(12676, 4)"
      ]
     },
     "execution_count": 20,
     "metadata": {},
     "output_type": "execute_result"
    }
   ],
   "source": [
    "df.shape"
   ]
  },
  {
   "cell_type": "code",
   "execution_count": 21,
   "metadata": {},
   "outputs": [],
   "source": [
    "df['brand'] = np.where(df['brand'].isnull(),\"\",df['brand'])"
   ]
  },
  {
   "cell_type": "code",
   "execution_count": 22,
   "metadata": {},
   "outputs": [],
   "source": [
    "df['description'] = np.where(df['description'].isnull(),\"\",df['description'])"
   ]
  },
  {
   "cell_type": "code",
   "execution_count": 23,
   "metadata": {},
   "outputs": [],
   "source": [
    "df['meta_data'] = df['product_name']+\" \"+df['product_category_tree']+\" \"+df['description']+\" \"+df['brand']"
   ]
  },
  {
   "cell_type": "code",
   "execution_count": 24,
   "metadata": {},
   "outputs": [
    {
     "data": {
      "text/plain": [
       "'alisha solid womens cycle short clothe womens clothe lingerie sleep swimwear short alisha short alisha solid womens cycle short key feature alisha solid womens cycle short cotton lycra navy red navyspecifications alisha solid womens cycle short short detail number content sales package pack 3 fabric cotton lycra type cycle short general detail pattern solid ideal womens fabric care gentle machine wash lukewarm water bleach additional detail style code altht3p21 box 3 short alisha'"
      ]
     },
     "execution_count": 24,
     "metadata": {},
     "output_type": "execute_result"
    }
   ],
   "source": [
    "df['meta_data'][0]"
   ]
  },
  {
   "cell_type": "code",
   "execution_count": 25,
   "metadata": {},
   "outputs": [
    {
     "data": {
      "text/html": [
       "<div>\n",
       "<style scoped>\n",
       "    .dataframe tbody tr th:only-of-type {\n",
       "        vertical-align: middle;\n",
       "    }\n",
       "\n",
       "    .dataframe tbody tr th {\n",
       "        vertical-align: top;\n",
       "    }\n",
       "\n",
       "    .dataframe thead th {\n",
       "        text-align: right;\n",
       "    }\n",
       "</style>\n",
       "<table border=\"1\" class=\"dataframe\">\n",
       "  <thead>\n",
       "    <tr style=\"text-align: right;\">\n",
       "      <th></th>\n",
       "      <th>product_name</th>\n",
       "      <th>product_category_tree</th>\n",
       "      <th>description</th>\n",
       "      <th>brand</th>\n",
       "      <th>meta_data</th>\n",
       "    </tr>\n",
       "  </thead>\n",
       "  <tbody>\n",
       "    <tr>\n",
       "      <th>0</th>\n",
       "      <td>alisha solid womens cycle short</td>\n",
       "      <td>clothe womens clothe lingerie sleep swimwear s...</td>\n",
       "      <td>key feature alisha solid womens cycle short co...</td>\n",
       "      <td>alisha</td>\n",
       "      <td>alisha solid womens cycle short clothe womens ...</td>\n",
       "    </tr>\n",
       "    <tr>\n",
       "      <th>1</th>\n",
       "      <td>fabhomedecor fabric double sofa bed</td>\n",
       "      <td>furniture live room furniture sofa bed futons ...</td>\n",
       "      <td>fabhomedecor fabric double sofa bed finish col...</td>\n",
       "      <td>fabhomedecor</td>\n",
       "      <td>fabhomedecor fabric double sofa bed furniture ...</td>\n",
       "    </tr>\n",
       "    <tr>\n",
       "      <th>2</th>\n",
       "      <td>aw belly</td>\n",
       "      <td>footwear womens footwear ballerinas aw belly</td>\n",
       "      <td>key feature aw belly sandals wedge heel casual...</td>\n",
       "      <td>aw</td>\n",
       "      <td>aw belly footwear womens footwear ballerinas a...</td>\n",
       "    </tr>\n",
       "    <tr>\n",
       "      <th>3</th>\n",
       "      <td>sicons purpose arnica dog shampoo</td>\n",
       "      <td>pet supply groom skin coat care shampoo sicons...</td>\n",
       "      <td>specifications sicons purpose arnica dog shamp...</td>\n",
       "      <td>sicons</td>\n",
       "      <td>sicons purpose arnica dog shampoo pet supply g...</td>\n",
       "    </tr>\n",
       "    <tr>\n",
       "      <th>4</th>\n",
       "      <td>eternal gandhi super series crystal paper weig...</td>\n",
       "      <td>eternal gandhi super series crystal paper weight</td>\n",
       "      <td>key feature eternal gandhi super series crysta...</td>\n",
       "      <td>eternal gandhi</td>\n",
       "      <td>eternal gandhi super series crystal paper weig...</td>\n",
       "    </tr>\n",
       "  </tbody>\n",
       "</table>\n",
       "</div>"
      ],
      "text/plain": [
       "                                        product_name  \\\n",
       "0                    alisha solid womens cycle short   \n",
       "1                fabhomedecor fabric double sofa bed   \n",
       "2                                           aw belly   \n",
       "3                  sicons purpose arnica dog shampoo   \n",
       "4  eternal gandhi super series crystal paper weig...   \n",
       "\n",
       "                               product_category_tree  \\\n",
       "0  clothe womens clothe lingerie sleep swimwear s...   \n",
       "1  furniture live room furniture sofa bed futons ...   \n",
       "2       footwear womens footwear ballerinas aw belly   \n",
       "3  pet supply groom skin coat care shampoo sicons...   \n",
       "4   eternal gandhi super series crystal paper weight   \n",
       "\n",
       "                                         description           brand  \\\n",
       "0  key feature alisha solid womens cycle short co...          alisha   \n",
       "1  fabhomedecor fabric double sofa bed finish col...    fabhomedecor   \n",
       "2  key feature aw belly sandals wedge heel casual...              aw   \n",
       "3  specifications sicons purpose arnica dog shamp...          sicons   \n",
       "4  key feature eternal gandhi super series crysta...  eternal gandhi   \n",
       "\n",
       "                                           meta_data  \n",
       "0  alisha solid womens cycle short clothe womens ...  \n",
       "1  fabhomedecor fabric double sofa bed furniture ...  \n",
       "2  aw belly footwear womens footwear ballerinas a...  \n",
       "3  sicons purpose arnica dog shampoo pet supply g...  \n",
       "4  eternal gandhi super series crystal paper weig...  "
      ]
     },
     "execution_count": 25,
     "metadata": {},
     "output_type": "execute_result"
    }
   ],
   "source": [
    "df.head()"
   ]
  },
  {
   "cell_type": "code",
   "execution_count": 26,
   "metadata": {},
   "outputs": [],
   "source": [
    "df1 = pd.read_csv('../datasets/main_data.csv')"
   ]
  },
  {
   "cell_type": "code",
   "execution_count": 27,
   "metadata": {},
   "outputs": [
    {
     "data": {
      "text/html": [
       "<div>\n",
       "<style scoped>\n",
       "    .dataframe tbody tr th:only-of-type {\n",
       "        vertical-align: middle;\n",
       "    }\n",
       "\n",
       "    .dataframe tbody tr th {\n",
       "        vertical-align: top;\n",
       "    }\n",
       "\n",
       "    .dataframe thead th {\n",
       "        text-align: right;\n",
       "    }\n",
       "</style>\n",
       "<table border=\"1\" class=\"dataframe\">\n",
       "  <thead>\n",
       "    <tr style=\"text-align: right;\">\n",
       "      <th></th>\n",
       "      <th>product_url</th>\n",
       "      <th>product_name</th>\n",
       "      <th>discounted_price</th>\n",
       "      <th>description</th>\n",
       "      <th>brand</th>\n",
       "      <th>product_specifications</th>\n",
       "      <th>product_name_val</th>\n",
       "      <th>product_category</th>\n",
       "      <th>img</th>\n",
       "      <th>meta_data</th>\n",
       "    </tr>\n",
       "  </thead>\n",
       "  <tbody>\n",
       "    <tr>\n",
       "      <th>0</th>\n",
       "      <td>http://www.flipkart.com/alisha-solid-women-s-c...</td>\n",
       "      <td>Alisha Solid Women's Cycling Shorts</td>\n",
       "      <td>379.0</td>\n",
       "      <td>Key Features of Alisha Solid Women's Cycling S...</td>\n",
       "      <td>Alisha</td>\n",
       "      <td>product_specification=&gt;key=&gt;Number of Contents...</td>\n",
       "      <td>alisha solid womens cycle short</td>\n",
       "      <td>Clothing</td>\n",
       "      <td>http://img5a.flixcart.com/image/short/u/4/a/al...</td>\n",
       "      <td>alisha solid womens cycle short clothe womens ...</td>\n",
       "    </tr>\n",
       "    <tr>\n",
       "      <th>1</th>\n",
       "      <td>http://www.flipkart.com/fabhomedecor-fabric-do...</td>\n",
       "      <td>FabHomeDecor Fabric Double Sofa Bed</td>\n",
       "      <td>22646.0</td>\n",
       "      <td>FabHomeDecor Fabric Double Sofa Bed (Finish Co...</td>\n",
       "      <td>FabHomeDecor</td>\n",
       "      <td>product_specification=&gt;key=&gt;Installation &amp; Dem...</td>\n",
       "      <td>fabhomedecor fabric double sofa bed</td>\n",
       "      <td>Furniture</td>\n",
       "      <td>http://img6a.flixcart.com/image/sofa-bed/j/f/y...</td>\n",
       "      <td>fabhomedecor fabric double sofa bed furniture ...</td>\n",
       "    </tr>\n",
       "    <tr>\n",
       "      <th>2</th>\n",
       "      <td>http://www.flipkart.com/aw-bellies/p/itmeh4grg...</td>\n",
       "      <td>AW Bellies</td>\n",
       "      <td>499.0</td>\n",
       "      <td>Key Features of AW Bellies Sandals Wedges Heel...</td>\n",
       "      <td>AW</td>\n",
       "      <td>product_specification=&gt;key=&gt;Ideal For, value=&gt;...</td>\n",
       "      <td>aw belly</td>\n",
       "      <td>Footwear</td>\n",
       "      <td>http://img5a.flixcart.com/image/shoe/7/z/z/red...</td>\n",
       "      <td>aw belly footwear womens footwear ballerinas a...</td>\n",
       "    </tr>\n",
       "    <tr>\n",
       "      <th>3</th>\n",
       "      <td>http://www.flipkart.com/sicons-all-purpose-arn...</td>\n",
       "      <td>Sicons All Purpose Arnica Dog Shampoo</td>\n",
       "      <td>210.0</td>\n",
       "      <td>Specifications of Sicons All Purpose Arnica Do...</td>\n",
       "      <td>Sicons</td>\n",
       "      <td>product_specification=&gt;key=&gt;Pet Type, value=&gt;D...</td>\n",
       "      <td>sicons purpose arnica dog shampoo</td>\n",
       "      <td>Pet Supplies</td>\n",
       "      <td>http://img5a.flixcart.com/image/pet-shampoo/r/...</td>\n",
       "      <td>sicons purpose arnica dog shampoo pet supply g...</td>\n",
       "    </tr>\n",
       "    <tr>\n",
       "      <th>4</th>\n",
       "      <td>http://www.flipkart.com/eternal-gandhi-super-s...</td>\n",
       "      <td>Eternal Gandhi Super Series Crystal Paper Weig...</td>\n",
       "      <td>430.0</td>\n",
       "      <td>Key Features of Eternal Gandhi Super Series Cr...</td>\n",
       "      <td>Eternal Gandhi</td>\n",
       "      <td>product_specification=&gt;key=&gt;Model Name, value=...</td>\n",
       "      <td>eternal gandhi super series crystal paper weig...</td>\n",
       "      <td>Eternal Gandhi Super Series Crystal Paper Weig...</td>\n",
       "      <td>http://img5a.flixcart.com/image/paper-weight/u...</td>\n",
       "      <td>eternal gandhi super series crystal paper weig...</td>\n",
       "    </tr>\n",
       "  </tbody>\n",
       "</table>\n",
       "</div>"
      ],
      "text/plain": [
       "                                         product_url  \\\n",
       "0  http://www.flipkart.com/alisha-solid-women-s-c...   \n",
       "1  http://www.flipkart.com/fabhomedecor-fabric-do...   \n",
       "2  http://www.flipkart.com/aw-bellies/p/itmeh4grg...   \n",
       "3  http://www.flipkart.com/sicons-all-purpose-arn...   \n",
       "4  http://www.flipkart.com/eternal-gandhi-super-s...   \n",
       "\n",
       "                                        product_name  discounted_price  \\\n",
       "0                Alisha Solid Women's Cycling Shorts             379.0   \n",
       "1                FabHomeDecor Fabric Double Sofa Bed           22646.0   \n",
       "2                                         AW Bellies             499.0   \n",
       "3              Sicons All Purpose Arnica Dog Shampoo             210.0   \n",
       "4  Eternal Gandhi Super Series Crystal Paper Weig...             430.0   \n",
       "\n",
       "                                         description           brand  \\\n",
       "0  Key Features of Alisha Solid Women's Cycling S...          Alisha   \n",
       "1  FabHomeDecor Fabric Double Sofa Bed (Finish Co...    FabHomeDecor   \n",
       "2  Key Features of AW Bellies Sandals Wedges Heel...              AW   \n",
       "3  Specifications of Sicons All Purpose Arnica Do...          Sicons   \n",
       "4  Key Features of Eternal Gandhi Super Series Cr...  Eternal Gandhi   \n",
       "\n",
       "                              product_specifications  \\\n",
       "0  product_specification=>key=>Number of Contents...   \n",
       "1  product_specification=>key=>Installation & Dem...   \n",
       "2  product_specification=>key=>Ideal For, value=>...   \n",
       "3  product_specification=>key=>Pet Type, value=>D...   \n",
       "4  product_specification=>key=>Model Name, value=...   \n",
       "\n",
       "                                    product_name_val  \\\n",
       "0                    alisha solid womens cycle short   \n",
       "1                fabhomedecor fabric double sofa bed   \n",
       "2                                           aw belly   \n",
       "3                  sicons purpose arnica dog shampoo   \n",
       "4  eternal gandhi super series crystal paper weig...   \n",
       "\n",
       "                                    product_category  \\\n",
       "0                                           Clothing   \n",
       "1                                          Furniture   \n",
       "2                                           Footwear   \n",
       "3                                       Pet Supplies   \n",
       "4  Eternal Gandhi Super Series Crystal Paper Weig...   \n",
       "\n",
       "                                                 img  \\\n",
       "0  http://img5a.flixcart.com/image/short/u/4/a/al...   \n",
       "1  http://img6a.flixcart.com/image/sofa-bed/j/f/y...   \n",
       "2  http://img5a.flixcart.com/image/shoe/7/z/z/red...   \n",
       "3  http://img5a.flixcart.com/image/pet-shampoo/r/...   \n",
       "4  http://img5a.flixcart.com/image/paper-weight/u...   \n",
       "\n",
       "                                           meta_data  \n",
       "0  alisha solid womens cycle short clothe womens ...  \n",
       "1  fabhomedecor fabric double sofa bed furniture ...  \n",
       "2  aw belly footwear womens footwear ballerinas a...  \n",
       "3  sicons purpose arnica dog shampoo pet supply g...  \n",
       "4  eternal gandhi super series crystal paper weig...  "
      ]
     },
     "execution_count": 27,
     "metadata": {},
     "output_type": "execute_result"
    }
   ],
   "source": [
    "df1.head()"
   ]
  },
  {
   "cell_type": "code",
   "execution_count": 28,
   "metadata": {},
   "outputs": [],
   "source": [
    "tf = TfidfVectorizer(analyzer='word',ngram_range=(1, 2),min_df=0, stop_words='english')"
   ]
  },
  {
   "cell_type": "code",
   "execution_count": 29,
   "metadata": {},
   "outputs": [],
   "source": [
    "tfidf_matrix = tf.fit_transform(df['meta_data'])"
   ]
  },
  {
   "cell_type": "code",
   "execution_count": 30,
   "metadata": {},
   "outputs": [],
   "source": [
    "cosine_sim = cosine_similarity(tfidf_matrix, tfidf_matrix)"
   ]
  },
  {
   "cell_type": "code",
   "execution_count": 31,
   "metadata": {},
   "outputs": [
    {
     "data": {
      "text/plain": [
       "(12676, 12676)"
      ]
     },
     "execution_count": 31,
     "metadata": {},
     "output_type": "execute_result"
    }
   ],
   "source": [
    "cosine_sim.shape"
   ]
  },
  {
   "cell_type": "code",
   "execution_count": 32,
   "metadata": {},
   "outputs": [],
   "source": [
    "d = {}\n",
    "for i in range(df.shape[0]):\n",
    "    if d.get(df['product_name'].iloc[i]) == None:\n",
    "        d[df['product_name'].iloc[i]] = i"
   ]
  },
  {
   "cell_type": "code",
   "execution_count": 33,
   "metadata": {},
   "outputs": [
    {
     "data": {
      "text/plain": [
       "0"
      ]
     },
     "execution_count": 33,
     "metadata": {},
     "output_type": "execute_result"
    }
   ],
   "source": [
    "x = 'alisha solid womens cycle short'\n",
    "idx = d[x]\n",
    "idx"
   ]
  },
  {
   "cell_type": "code",
   "execution_count": 34,
   "metadata": {},
   "outputs": [],
   "source": [
    "sim_scores = list(enumerate(cosine_sim[idx]))"
   ]
  },
  {
   "cell_type": "code",
   "execution_count": 35,
   "metadata": {},
   "outputs": [],
   "source": [
    "sim_scores = sorted(sim_scores, key=lambda x: x[1], reverse=True)"
   ]
  },
  {
   "cell_type": "code",
   "execution_count": 36,
   "metadata": {},
   "outputs": [],
   "source": [
    "sim_scores = sim_scores[1:31]"
   ]
  },
  {
   "cell_type": "code",
   "execution_count": 37,
   "metadata": {},
   "outputs": [],
   "source": [
    "product_indices = [i[0] for i in sim_scores]"
   ]
  },
  {
   "cell_type": "code",
   "execution_count": 38,
   "metadata": {},
   "outputs": [
    {
     "data": {
      "text/plain": [
       "[644,\n",
       " 7162,\n",
       " 899,\n",
       " 1962,\n",
       " 1786,\n",
       " 1708,\n",
       " 7158,\n",
       " 1789,\n",
       " 699,\n",
       " 1796,\n",
       " 905,\n",
       " 8055,\n",
       " 1775,\n",
       " 904,\n",
       " 3618,\n",
       " 1832,\n",
       " 9896,\n",
       " 5526,\n",
       " 1723,\n",
       " 7159,\n",
       " 427,\n",
       " 474,\n",
       " 1715,\n",
       " 6653,\n",
       " 405,\n",
       " 557,\n",
       " 1784,\n",
       " 9683,\n",
       " 502,\n",
       " 7252]"
      ]
     },
     "execution_count": 38,
     "metadata": {},
     "output_type": "execute_result"
    }
   ],
   "source": [
    "product_indices"
   ]
  },
  {
   "cell_type": "code",
   "execution_count": 21,
   "metadata": {},
   "outputs": [],
   "source": [
    "res = df.iloc[product_indices]"
   ]
  },
  {
   "cell_type": "code",
   "execution_count": 22,
   "metadata": {},
   "outputs": [
    {
     "data": {
      "text/plain": [
       "Int64Index([ 644, 7162,  899, 1962, 1786, 1708, 7158, 1789,  699, 1796,  905,\n",
       "            8055, 1775,  904, 3618, 1832, 9896, 5526, 1723, 7159,  427,  474,\n",
       "            1715, 6653,  405,  557, 1784, 9683,  502, 7252],\n",
       "           dtype='int64')"
      ]
     },
     "execution_count": 22,
     "metadata": {},
     "output_type": "execute_result"
    }
   ],
   "source": [
    "res.index"
   ]
  },
  {
   "cell_type": "code",
   "execution_count": 23,
   "metadata": {},
   "outputs": [],
   "source": [
    "def get_recommendation(x):\n",
    "    idx = d[x]\n",
    "    sim_scores = list(enumerate(cosine_sim[idx]))\n",
    "    sim_scores = sorted(sim_scores, key=lambda x: x[1], reverse=True)\n",
    "    sim_scores = sim_scores[1:31]\n",
    "    product_indices = [i[0] for i in sim_scores]\n",
    "    res = df.iloc[product_indices]\n",
    "    return res.index"
   ]
  },
  {
   "cell_type": "code",
   "execution_count": 24,
   "metadata": {},
   "outputs": [
    {
     "data": {
      "text/plain": [
       "Int64Index([ 644, 7162,  899, 1962, 1786, 1708, 7158, 1789,  699, 1796,  905,\n",
       "            8055, 1775,  904, 3618, 1832, 9896, 5526, 1723, 7159,  427,  474,\n",
       "            1715, 6653,  405,  557, 1784, 9683,  502, 7252],\n",
       "           dtype='int64')"
      ]
     },
     "execution_count": 24,
     "metadata": {},
     "output_type": "execute_result"
    }
   ],
   "source": [
    "get_recommendation(\"alisha solid womens cycle short\")"
   ]
  },
  {
   "cell_type": "code",
   "execution_count": 26,
   "metadata": {},
   "outputs": [],
   "source": [
    "import pickle"
   ]
  },
  {
   "cell_type": "code",
   "execution_count": 27,
   "metadata": {},
   "outputs": [],
   "source": [
    "pickle.dump(tfidf_matrix,open('model.pkl','wb'))"
   ]
  },
  {
   "cell_type": "code",
   "execution_count": null,
   "metadata": {},
   "outputs": [],
   "source": []
  }
 ],
 "metadata": {
  "kernelspec": {
   "display_name": "Python 3",
   "language": "python",
   "name": "python3"
  },
  "language_info": {
   "codemirror_mode": {
    "name": "ipython",
    "version": 3
   },
   "file_extension": ".py",
   "mimetype": "text/x-python",
   "name": "python",
   "nbconvert_exporter": "python",
   "pygments_lexer": "ipython3",
   "version": "3.8.5"
  }
 },
 "nbformat": 4,
 "nbformat_minor": 4
}
